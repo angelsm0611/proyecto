{
 "cells": [
  {
   "cell_type": "code",
   "execution_count": 1,
   "id": "23ca3923",
   "metadata": {},
   "outputs": [],
   "source": [
    "!pip install mlflow textstat"
   ]
  },
  {
   "cell_type": "code",
   "execution_count": 2,
   "id": "2236efa7",
   "metadata": {},
   "outputs": [],
   "source": [
    "!pip install -q transformers datasets evaluate mlflow accelerate bert-score readability-metrics alignscore"
   ]
  },
  {
   "cell_type": "code",
   "execution_count": 3,
   "id": "8a67bb0d",
   "metadata": {},
   "outputs": [
    {
     "name": "stdout",
     "output_type": "stream",
     "text": [
      "Requirement already satisfied: huggingface_hub[hf_xet] in c:\\users\\sanch\\documents\\proyecto_grado\\modelos\\transalate\\venv\\lib\\site-packages (0.35.0)\n",
      "Requirement already satisfied: filelock in c:\\users\\sanch\\documents\\proyecto_grado\\modelos\\transalate\\venv\\lib\\site-packages (from huggingface_hub[hf_xet]) (3.19.1)\n",
      "Requirement already satisfied: fsspec>=2023.5.0 in c:\\users\\sanch\\documents\\proyecto_grado\\modelos\\transalate\\venv\\lib\\site-packages (from huggingface_hub[hf_xet]) (2024.6.1)\n",
      "Requirement already satisfied: packaging>=20.9 in c:\\users\\sanch\\documents\\proyecto_grado\\modelos\\transalate\\venv\\lib\\site-packages (from huggingface_hub[hf_xet]) (24.2)\n",
      "Requirement already satisfied: pyyaml>=5.1 in c:\\users\\sanch\\documents\\proyecto_grado\\modelos\\transalate\\venv\\lib\\site-packages (from huggingface_hub[hf_xet]) (6.0.2)\n",
      "Requirement already satisfied: requests in c:\\users\\sanch\\documents\\proyecto_grado\\modelos\\transalate\\venv\\lib\\site-packages (from huggingface_hub[hf_xet]) (2.32.5)\n",
      "Requirement already satisfied: tqdm>=4.42.1 in c:\\users\\sanch\\documents\\proyecto_grado\\modelos\\transalate\\venv\\lib\\site-packages (from huggingface_hub[hf_xet]) (4.67.1)\n",
      "Requirement already satisfied: typing-extensions>=3.7.4.3 in c:\\users\\sanch\\documents\\proyecto_grado\\modelos\\transalate\\venv\\lib\\site-packages (from huggingface_hub[hf_xet]) (4.15.0)\n",
      "Requirement already satisfied: colorama in c:\\users\\sanch\\documents\\proyecto_grado\\modelos\\transalate\\venv\\lib\\site-packages (from tqdm>=4.42.1->huggingface_hub[hf_xet]) (0.4.6)\n",
      "Requirement already satisfied: charset_normalizer<4,>=2 in c:\\users\\sanch\\documents\\proyecto_grado\\modelos\\transalate\\venv\\lib\\site-packages (from requests->huggingface_hub[hf_xet]) (3.4.3)\n",
      "Requirement already satisfied: idna<4,>=2.5 in c:\\users\\sanch\\documents\\proyecto_grado\\modelos\\transalate\\venv\\lib\\site-packages (from requests->huggingface_hub[hf_xet]) (3.10)\n",
      "Requirement already satisfied: urllib3<3,>=1.21.1 in c:\\users\\sanch\\documents\\proyecto_grado\\modelos\\transalate\\venv\\lib\\site-packages (from requests->huggingface_hub[hf_xet]) (2.5.0)\n",
      "Requirement already satisfied: certifi>=2017.4.17 in c:\\users\\sanch\\documents\\proyecto_grado\\modelos\\transalate\\venv\\lib\\site-packages (from requests->huggingface_hub[hf_xet]) (2025.8.3)\n",
      "Note: you may need to restart the kernel to use updated packages.\n"
     ]
    },
    {
     "name": "stderr",
     "output_type": "stream",
     "text": [
      "\n",
      "[notice] A new release of pip is available: 23.1.2 -> 25.2\n",
      "[notice] To update, run: python.exe -m pip install --upgrade pip\n"
     ]
    }
   ],
   "source": [
    "pip install huggingface_hub[hf_xet]"
   ]
  },
  {
   "cell_type": "code",
   "execution_count": 5,
   "id": "f25f097d",
   "metadata": {},
   "outputs": [
    {
     "name": "stdout",
     "output_type": "stream",
     "text": [
      "                                              source  \\\n",
      "0  Muscle cramps are a common problem characteriz...   \n",
      "1  The dystonias are a group of disorders charact...   \n",
      "2  Muscle cramps result in continuous, involuntar...   \n",
      "3  Exercise-Associated Muscle Cramps (EAMC) are a...   \n",
      "4  Muscular cramp is a common symptom in healthy ...   \n",
      "\n",
      "                                              target  \n",
      "0  Muscle cramps are a common problem represented...  \n",
      "1  Dystonias are disorders with a lot of uncontro...  \n",
      "2  Muscle cramps cause constant and unintended co...  \n",
      "3  Exercise-Associated Muscle Cramps (EAMC) are a...  \n",
      "4  Muscle cramps are common in healthy people, es...  \n",
      "Total de ejemplos: 320\n",
      "\n",
      "🔧 Entrenando distilgpt2...\n"
     ]
    },
    {
     "name": "stderr",
     "output_type": "stream",
     "text": [
      "Map: 100%|██████████| 320/320 [00:00<00:00, 1379.63 examples/s]\n",
      "c:\\Users\\sanch\\Documents\\proyecto_grado\\modelos\\transalate\\venv\\Lib\\site-packages\\peft\\tuners\\lora\\layer.py:2174: UserWarning: fan_in_fan_out is set to False but the target module is `Conv1D`. Setting fan_in_fan_out to True.\n",
      "  warnings.warn(\n",
      "                                                 \n",
      " 33%|███▎      | 160/480 [04:13<07:21,  1.38s/it]"
     ]
    },
    {
     "name": "stdout",
     "output_type": "stream",
     "text": [
      "{'eval_loss': 3.4489240646362305, 'eval_runtime': 31.1532, 'eval_samples_per_second': 3.21, 'eval_steps_per_second': 1.605, 'epoch': 1.0}\n"
     ]
    },
    {
     "name": "stderr",
     "output_type": "stream",
     "text": [
      "                                                 \n",
      " 67%|██████▋   | 320/480 [07:57<02:59,  1.12s/it]"
     ]
    },
    {
     "name": "stdout",
     "output_type": "stream",
     "text": [
      "{'eval_loss': 3.4321718215942383, 'eval_runtime': 24.4517, 'eval_samples_per_second': 4.09, 'eval_steps_per_second': 2.045, 'epoch': 2.0}\n"
     ]
    },
    {
     "name": "stderr",
     "output_type": "stream",
     "text": [
      "                                                 \n",
      "100%|██████████| 480/480 [11:28<00:00,  1.17s/it]"
     ]
    },
    {
     "name": "stdout",
     "output_type": "stream",
     "text": [
      "{'eval_loss': 3.4281585216522217, 'eval_runtime': 25.4826, 'eval_samples_per_second': 3.924, 'eval_steps_per_second': 1.962, 'epoch': 3.0}\n",
      "{'train_runtime': 689.1656, 'train_samples_per_second': 1.393, 'train_steps_per_second': 0.696, 'train_loss': 3.554651896158854, 'epoch': 3.0}\n"
     ]
    },
    {
     "name": "stderr",
     "output_type": "stream",
     "text": [
      "100%|██████████| 480/480 [11:29<00:00,  1.44s/it]\n"
     ]
    },
    {
     "name": "stdout",
     "output_type": "stream",
     "text": [
      "\n",
      "🔧 Entrenando gpt2...\n"
     ]
    },
    {
     "name": "stderr",
     "output_type": "stream",
     "text": [
      "Map: 100%|██████████| 320/320 [00:00<00:00, 1607.22 examples/s]\n",
      "c:\\Users\\sanch\\Documents\\proyecto_grado\\modelos\\transalate\\venv\\Lib\\site-packages\\peft\\tuners\\lora\\layer.py:2174: UserWarning: fan_in_fan_out is set to False but the target module is `Conv1D`. Setting fan_in_fan_out to True.\n",
      "  warnings.warn(\n",
      " 33%|███▎      | 160/480 [05:06<10:08,  1.90s/it]\n",
      " 33%|███▎      | 160/480 [05:45<10:08,  1.90s/it]"
     ]
    },
    {
     "name": "stdout",
     "output_type": "stream",
     "text": [
      "{'eval_loss': 3.0523221492767334, 'eval_runtime': 39.6362, 'eval_samples_per_second': 2.523, 'eval_steps_per_second': 1.261, 'epoch': 1.0}\n"
     ]
    },
    {
     "name": "stderr",
     "output_type": "stream",
     "text": [
      " 67%|██████▋   | 320/480 [10:49<05:01,  1.88s/it]  \n",
      " 67%|██████▋   | 320/480 [11:29<05:01,  1.88s/it]"
     ]
    },
    {
     "name": "stdout",
     "output_type": "stream",
     "text": [
      "{'eval_loss': 3.028944969177246, 'eval_runtime': 39.6096, 'eval_samples_per_second': 2.525, 'eval_steps_per_second': 1.262, 'epoch': 2.0}\n"
     ]
    },
    {
     "name": "stderr",
     "output_type": "stream",
     "text": [
      "100%|██████████| 480/480 [16:45<00:00,  2.16s/it]\n",
      "100%|██████████| 480/480 [17:25<00:00,  2.16s/it]"
     ]
    },
    {
     "name": "stdout",
     "output_type": "stream",
     "text": [
      "{'eval_loss': 3.0230748653411865, 'eval_runtime': 39.8785, 'eval_samples_per_second': 2.508, 'eval_steps_per_second': 1.254, 'epoch': 3.0}\n",
      "{'train_runtime': 1045.7447, 'train_samples_per_second': 0.918, 'train_steps_per_second': 0.459, 'train_loss': 3.185089874267578, 'epoch': 3.0}\n"
     ]
    },
    {
     "name": "stderr",
     "output_type": "stream",
     "text": [
      "100%|██████████| 480/480 [17:26<00:00,  2.18s/it]\n"
     ]
    },
    {
     "name": "stdout",
     "output_type": "stream",
     "text": [
      "\n",
      "🔧 Entrenando EleutherAI/gpt-neo-125M...\n"
     ]
    },
    {
     "name": "stderr",
     "output_type": "stream",
     "text": [
      "Map: 100%|██████████| 320/320 [00:00<00:00, 1604.16 examples/s]\n",
      " 33%|███▎      | 160/480 [05:28<12:00,  2.25s/it]\n",
      " 33%|███▎      | 160/480 [06:19<12:00,  2.25s/it]"
     ]
    },
    {
     "name": "stdout",
     "output_type": "stream",
     "text": [
      "{'eval_loss': 2.604733943939209, 'eval_runtime': 51.7532, 'eval_samples_per_second': 1.932, 'eval_steps_per_second': 0.966, 'epoch': 1.0}\n"
     ]
    },
    {
     "name": "stderr",
     "output_type": "stream",
     "text": [
      " 67%|██████▋   | 320/480 [12:05<05:43,  2.15s/it]  \n",
      " 67%|██████▋   | 320/480 [12:53<05:43,  2.15s/it]"
     ]
    },
    {
     "name": "stdout",
     "output_type": "stream",
     "text": [
      "{'eval_loss': 2.5870566368103027, 'eval_runtime': 47.4234, 'eval_samples_per_second': 2.109, 'eval_steps_per_second': 1.054, 'epoch': 2.0}\n"
     ]
    },
    {
     "name": "stderr",
     "output_type": "stream",
     "text": [
      "                                                 \n",
      "100%|██████████| 480/480 [19:54<00:00,  2.27s/it]"
     ]
    },
    {
     "name": "stdout",
     "output_type": "stream",
     "text": [
      "{'eval_loss': 2.5825839042663574, 'eval_runtime': 53.7483, 'eval_samples_per_second': 1.861, 'eval_steps_per_second': 0.93, 'epoch': 3.0}\n",
      "{'train_runtime': 1194.8047, 'train_samples_per_second': 0.803, 'train_steps_per_second': 0.402, 'train_loss': 2.5756375630696615, 'epoch': 3.0}\n"
     ]
    },
    {
     "name": "stderr",
     "output_type": "stream",
     "text": [
      "100%|██████████| 480/480 [19:55<00:00,  2.49s/it]\n"
     ]
    },
    {
     "name": "stdout",
     "output_type": "stream",
     "text": [
      "\n",
      "🔧 Entrenando EleutherAI/pythia-70m...\n"
     ]
    },
    {
     "name": "stderr",
     "output_type": "stream",
     "text": [
      "Map: 100%|██████████| 320/320 [00:00<00:00, 1650.12 examples/s]\n",
      "                                                 \n",
      " 33%|███▎      | 160/480 [02:45<05:09,  1.04it/s]"
     ]
    },
    {
     "name": "stdout",
     "output_type": "stream",
     "text": [
      "{'eval_loss': 3.086937189102173, 'eval_runtime': 17.5217, 'eval_samples_per_second': 5.707, 'eval_steps_per_second': 2.854, 'epoch': 1.0}\n"
     ]
    },
    {
     "name": "stderr",
     "output_type": "stream",
     "text": [
      "                                                 \n",
      " 67%|██████▋   | 320/480 [05:44<02:39,  1.00it/s]"
     ]
    },
    {
     "name": "stdout",
     "output_type": "stream",
     "text": [
      "{'eval_loss': 3.017232894897461, 'eval_runtime': 18.0764, 'eval_samples_per_second': 5.532, 'eval_steps_per_second': 2.766, 'epoch': 2.0}\n"
     ]
    },
    {
     "name": "stderr",
     "output_type": "stream",
     "text": [
      "                                                 \n",
      "100%|██████████| 480/480 [08:10<00:00,  1.19it/s]"
     ]
    },
    {
     "name": "stdout",
     "output_type": "stream",
     "text": [
      "{'eval_loss': 2.9888219833374023, 'eval_runtime': 18.574, 'eval_samples_per_second': 5.384, 'eval_steps_per_second': 2.692, 'epoch': 3.0}\n",
      "{'train_runtime': 491.106, 'train_samples_per_second': 1.955, 'train_steps_per_second': 0.977, 'train_loss': 3.0613072713216147, 'epoch': 3.0}\n"
     ]
    },
    {
     "name": "stderr",
     "output_type": "stream",
     "text": [
      "100%|██████████| 480/480 [08:11<00:00,  1.02s/it]\n",
      "Setting `pad_token_id` to `eos_token_id`:None for open-end generation.\n",
      "Some weights of RobertaModel were not initialized from the model checkpoint at roberta-large and are newly initialized: ['roberta.pooler.dense.bias', 'roberta.pooler.dense.weight']\n",
      "You should probably TRAIN this model on a down-stream task to be able to use it for predictions and inference.\n",
      "Setting `pad_token_id` to `eos_token_id`:None for open-end generation.\n"
     ]
    },
    {
     "name": "stdout",
     "output_type": "stream",
     "text": [
      "\n",
      " Modelo: distilgpt2\n",
      " Resumen: Muscle cramps are a common problem characterized by a sudden, painful, involuntary contraction of muscle. These true cramps, which originate from peripheral nerves, may be distinguished from other muscle pain or spasm. Medical history, physical examination, and a limited laboratory screen help to determine the various causes of muscle cramps. Despite the \"benign\" nature of cramps, many patients find the symptom very uncomfortable. Treatment options are guided both by experience and by a limited number of therapeutic trials. Quinine sulfate is an effective medication, but the side-effect profile is worrisome, and other membrane-stabilizing drugs are probably just as effective. Patients will benefit from further studies to better define the pathophysiology of muscle cramps and to find more effective medications with fewer side-effects.\n",
      "\n",
      "\n",
      "\n",
      "\n",
      "\n",
      "\n",
      "\n",
      "\n",
      "\n",
      "\n",
      "\n",
      "\n",
      "\n",
      "\n",
      "\n",
      "\n",
      "\n",
      "\n",
      "\n",
      "\n",
      "\n",
      "\n",
      "\n",
      "\n",
      "\n",
      "\n",
      "\n",
      "\n",
      "\n",
      "\n",
      "\n",
      "\n",
      "\n",
      "\n",
      "\n",
      "\n",
      "\n",
      "\n",
      "\n",
      "\n",
      "\n",
      "\n",
      "\n",
      "\n",
      "\n",
      "\n",
      "\n",
      "\n",
      "\n",
      "\n",
      "\n",
      "\n",
      "\n",
      "\n",
      "\n",
      "\n",
      "\n",
      "\n",
      "\n",
      "\n",
      "\n",
      "\n",
      "\n",
      "\n",
      "\n",
      "\n",
      "\n",
      "\n",
      "\n",
      "\n",
      "\n",
      "\n",
      "\n",
      "\n",
      "\n",
      "\n",
      "\n",
      "\n",
      "\n",
      "\n",
      "\n",
      "\n",
      "\n",
      "\n",
      "\n",
      "\n",
      "\n",
      "\n",
      "\n",
      "\n",
      "\n",
      "\n",
      "\n",
      "\n",
      "\n",
      "\n",
      "\n",
      "\n",
      "\n",
      "\n",
      " BERTScore F1: 0.934 | Flesch-Kincaid: 13.60\n"
     ]
    },
    {
     "name": "stderr",
     "output_type": "stream",
     "text": [
      "Setting `pad_token_id` to `eos_token_id`:None for open-end generation.\n"
     ]
    },
    {
     "name": "stdout",
     "output_type": "stream",
     "text": [
      "\n",
      " Modelo: gpt2\n",
      " Resumen: Muscle cramps are a common problem characterized by a sudden, painful, involuntary contraction of muscle. These true cramps, which originate from peripheral nerves, may be distinguished from other muscle pain or spasm. Medical history, physical examination, and a limited laboratory screen help to determine the various causes of muscle cramps. Despite the \"benign\" nature of cramps, many patients find the symptom very uncomfortable. Treatment options are guided both by experience and by a limited number of therapeutic trials. Quinine sulfate is an effective medication, but the side-effect profile is worrisome, and other membrane-stabilizing drugs are probably just as effective. Patients will benefit from further studies to better define the pathophysiology of muscle cramps and to find more effective medications with fewer side-effects.\n",
      "\n",
      "The most common cause of muscle cramps is a sudden, painful, involuntary contraction of muscle. These true cramps, which originate from peripheral nerves, may be distinguished from other muscle pain or spasm. Medical history, physical examination, and a limited laboratory screen help to determine the various causes of muscle cramps. Despite the \"benign\" nature of cramps, many patients find the symptom very uncomfortable. Treatment options are guided both by experience and by a limited number of therapeutic trials.\n",
      " BERTScore F1: 0.905 | Flesch-Kincaid: 12.20\n"
     ]
    },
    {
     "name": "stderr",
     "output_type": "stream",
     "text": [
      "Setting `pad_token_id` to `eos_token_id`:None for open-end generation.\n"
     ]
    },
    {
     "name": "stdout",
     "output_type": "stream",
     "text": [
      "\n",
      " Modelo: EleutherAI/gpt-neo-125M\n",
      " Resumen: Muscle cramps are a common problem characterized by a sudden, painful, involuntary contraction of muscle. These true cramps, which originate from peripheral nerves, may be distinguished from other muscle pain or spasm. Medical history, physical examination, and a limited laboratory screen help to determine the various causes of muscle cramps. Despite the \"benign\" nature of cramps, many patients find the symptom very uncomfortable. Treatment options are guided both by experience and by a limited number of therapeutic trials. Quinine sulfate is an effective medication, but the side-effect profile is worrisome, and other membrane-stabilizing drugs are probably just as effective. Patients will benefit from further studies to better define the pathophysiology of muscle cramps and to find more effective medications with fewer side-effects.\n",
      " BERTScore F1: 0.934 | Flesch-Kincaid: 13.60\n",
      "\n",
      " Modelo: EleutherAI/pythia-70m\n",
      " Resumen: Muscle cramps are a common problem characterized by a sudden, painful, involuntary contraction of muscle. These true cramps, which originate from peripheral nerves, may be distinguished from other muscle pain or spasm. Medical history, physical examination, and a limited laboratory screen help to determine the various causes of muscle cramps. Despite the \"benign\" nature of cramps, many patients find the symptom very uncomfortable. Treatment options are guided both by experience and by a limited number of therapeutic trials. Quinine sulfate is an effective medication, but the side-effect profile is worrisome, and other membrane-stabilizing drugs are probably just as effective. Patients will benefit from further studies to better define the pathophysiology of muscle cramps and to find more effective medications with fewer side-effects. The use of a single dose of a single dose of a single dose of a single dose of a single dose of a single dose of a single dose of a single dose of a single dose of a single dose of a single dose of a single dose of a single dose of a single dose of a single dose of a single dose of a single dose of a single dose of a single dose of a single dose of a single dose of a single dose of a single dose of a single dose of a\n",
      " BERTScore F1: 0.890 | Flesch-Kincaid: 14.10\n"
     ]
    }
   ],
   "source": [
    "import json\n",
    "import pandas as pd\n",
    "from datasets import Dataset\n",
    "from transformers import AutoTokenizer, AutoModelForCausalLM, TrainingArguments, Trainer, DataCollatorForLanguageModeling\n",
    "from peft import LoraConfig, get_peft_model\n",
    "import evaluate\n",
    "import mlflow\n",
    "import torch\n",
    "from textstat import flesch_kincaid_grade\n",
    "\n",
    "\n",
    "with open(r\"C:\\Users\\sanch\\Documents\\proyecto_grado\\data\\data.json\", \"r\", encoding=\"utf-8\") as f:\n",
    "    data = json.load(f)\n",
    "\n",
    "records = []\n",
    "\n",
    "for _, articles in data.items():\n",
    "    if isinstance(articles, dict):  # aseguramos que es un diccionario\n",
    "        for _, content in articles.items():\n",
    "            if isinstance(content, dict):  # solo seguimos si es un dict\n",
    "                # Unir abstract si existe\n",
    "                abstract = \"\"\n",
    "                if \"abstract\" in content and isinstance(content[\"abstract\"], dict):\n",
    "                    abstract = \" \".join(content[\"abstract\"].values())\n",
    "\n",
    "                # Unir adaptation si existe\n",
    "                adaptation = \"\"\n",
    "                if \"adaptations\" in content and isinstance(content[\"adaptations\"], dict):\n",
    "                    adaptation_dict = content[\"adaptations\"].get(\"adaptation2\", {})\n",
    "                    if isinstance(adaptation_dict, dict):\n",
    "                        adaptation = \" \".join(adaptation_dict.values())\n",
    "\n",
    "                if abstract and adaptation:  # solo guardamos pares válidos\n",
    "                    records.append({\"source\": abstract, \"target\": adaptation})\n",
    "\n",
    "# Convertimos a DataFrame\n",
    "import pandas as pd\n",
    "df = pd.DataFrame(records)\n",
    "print(df.head())\n",
    "total_ejemplos = len(df)\n",
    "print(f\"Total de ejemplos: {total_ejemplos}\")\n",
    "dataset = Dataset.from_pandas(df)\n",
    "\n",
    "\n",
    "small_models = [\n",
    "    \"distilgpt2\",\n",
    "    \"gpt2\",\n",
    "    \"EleutherAI/gpt-neo-125M\",\n",
    "    \"EleutherAI/pythia-70m\"\n",
    "]\n",
    "\n",
    "\n",
    "def tokenize_function(examples, tokenizer):\n",
    "    inputs = [f\"Simplify: {src}\" for src in examples[\"source\"]]\n",
    "    targets = examples[\"target\"]\n",
    "    model_inputs = tokenizer(inputs, max_length=256, truncation=True, padding=\"max_length\")\n",
    "    labels = tokenizer(targets, max_length=128, truncation=True, padding=\"max_length\").input_ids\n",
    "    model_inputs[\"labels\"] = labels\n",
    "    return model_inputs\n",
    "\n",
    "def train_model(model_name, dataset):\n",
    "    print(f\"\\n🔧 Entrenando {model_name}...\")\n",
    "\n",
    "    tokenizer = AutoTokenizer.from_pretrained(model_name)\n",
    "    if tokenizer.pad_token is None:\n",
    "        tokenizer.pad_token = tokenizer.eos_token\n",
    "\n",
    "    tokenized = dataset.map(lambda x: tokenize_function(x, tokenizer), batched=True)\n",
    "\n",
    "    model = AutoModelForCausalLM.from_pretrained(model_name)\n",
    "\n",
    "    if \"pythia\" in model_name:\n",
    "        target_modules = [\"query_key_value\", \"dense\", \"dense_h_to_4h\", \"dense_4h_to_h\"]\n",
    "    elif \"gpt2\" in model_name or \"ettin\" in model_name:\n",
    "         target_modules = [\"c_attn\",\"q_proj\",\"v_proj\"]\n",
    "    else:\n",
    "         target_modules = None \n",
    "\n",
    "    config = LoraConfig(\n",
    "        r=8,\n",
    "        lora_alpha=16,\n",
    "        target_modules=target_modules,\n",
    "        lora_dropout=0.1,\n",
    "        bias=\"none\",\n",
    "        task_type=\"CAUSAL_LM\"\n",
    "    )\n",
    "    model = get_peft_model(model, config)\n",
    "\n",
    "    data_collator = DataCollatorForLanguageModeling(tokenizer, mlm=False)\n",
    "\n",
    "    training_args = TrainingArguments(\n",
    "        output_dir=f\"./results/{model_name.replace('/','_')}\",\n",
    "        eval_strategy=\"epoch\",\n",
    "        learning_rate=2e-4,\n",
    "        per_device_train_batch_size=2,\n",
    "        per_device_eval_batch_size=2,\n",
    "        num_train_epochs=3,   \n",
    "        weight_decay=0.01,\n",
    "        save_total_limit=1,\n",
    "        fp16=True,\n",
    "        push_to_hub=False,\n",
    "        logging_dir=\"./logs\",\n",
    "        report_to=\"mlflow\",\n",
    "    )\n",
    "\n",
    "    trainer = Trainer(\n",
    "        model=model,\n",
    "        args=training_args,\n",
    "        train_dataset=tokenized.shuffle(seed=42).select(range(total_ejemplos)),\n",
    "        eval_dataset=tokenized.shuffle(seed=42).select(range(100)),\n",
    "        tokenizer=tokenizer,\n",
    "        data_collator=data_collator,\n",
    "    )\n",
    "\n",
    "    trainer.train()\n",
    "    return model, tokenizer\n",
    "\n",
    "\n",
    "trained_models = {}\n",
    "for m in small_models:\n",
    "    model, tokenizer = train_model(m, dataset)\n",
    "    trained_models[m] = (model, tokenizer)\n",
    "\n",
    "\n",
    "bertscore = evaluate.load(\"bertscore\")\n",
    "\n",
    "def evaluate_model(model, tokenizer, text):\n",
    "    inputs = tokenizer(text, return_tensors=\"pt\")\n",
    "    inputs = inputs.to(model.device) \n",
    "    outputs = model.generate(**inputs, max_new_tokens=100)\n",
    "    summary = tokenizer.decode(outputs[0], skip_special_tokens=True)\n",
    "\n",
    "\n",
    "    refs = [df[\"target\"][0]]\n",
    "    preds = [summary]\n",
    "    bs = bertscore.compute(predictions=preds, references=refs, lang=\"en\")\n",
    "\n",
    "\n",
    "    fk = flesch_kincaid_grade(summary)\n",
    "\n",
    "    return summary, bs[\"f1\"][0], fk\n",
    "\n",
    "sample_text = df[\"source\"][0]\n",
    "for m, (model, tok) in trained_models.items():\n",
    "    summary, bert, fk = evaluate_model(model, tok, sample_text)\n",
    "    print(f\"\\n Modelo: {m}\")\n",
    "    print(f\" Resumen: {summary}\")\n",
    "    print(f\" BERTScore F1: {bert:.3f} | Flesch-Kincaid: {fk:.2f}\")"
   ]
  }
 ],
 "metadata": {
  "kernelspec": {
   "display_name": "venv (3.11.4)",
   "language": "python",
   "name": "python3"
  },
  "language_info": {
   "codemirror_mode": {
    "name": "ipython",
    "version": 3
   },
   "file_extension": ".py",
   "mimetype": "text/x-python",
   "name": "python",
   "nbconvert_exporter": "python",
   "pygments_lexer": "ipython3",
   "version": "3.11.4"
  }
 },
 "nbformat": 4,
 "nbformat_minor": 5
}
